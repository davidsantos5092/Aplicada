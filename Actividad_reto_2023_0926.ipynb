{
  "nbformat": 4,
  "nbformat_minor": 0,
  "metadata": {
    "colab": {
      "provenance": [],
      "authorship_tag": "ABX9TyPIuEaM2frkS04Bbx84TItT",
      "include_colab_link": true
    },
    "kernelspec": {
      "name": "python3",
      "display_name": "Python 3"
    },
    "language_info": {
      "name": "python"
    }
  },
  "cells": [
    {
      "cell_type": "markdown",
      "metadata": {
        "id": "view-in-github",
        "colab_type": "text"
      },
      "source": [
        "<a href=\"https://colab.research.google.com/github/davidsantos5092/Aplicada/blob/main/Actividad_reto_2023_0926.ipynb\" target=\"_parent\"><img src=\"https://colab.research.google.com/assets/colab-badge.svg\" alt=\"Open In Colab\"/></a>"
      ]
    },
    {
      "cell_type": "code",
      "execution_count": 1,
      "metadata": {
        "colab": {
          "base_uri": "https://localhost:8080/"
        },
        "id": "iR69Qt9qZshj",
        "outputId": "7aa72e8f-0cd3-4dbd-e165-681fee9222a9"
      },
      "outputs": [
        {
          "output_type": "stream",
          "name": "stdout",
          "text": [
            "La suma de los elementos del arreglo es: 15\n"
          ]
        }
      ],
      "source": [
        "import array\n",
        "\n",
        "def suma_arreglo(arr):\n",
        "    if not isinstance(arr, array.array):\n",
        "        raise ValueError(\"Se espera un objeto de tipo array.array\")\n",
        "\n",
        "    suma = 0\n",
        "    for elemento in arr:\n",
        "        suma += elemento\n",
        "\n",
        "    return suma\n",
        "\n",
        "# Ejemplo de uso:\n",
        "mi_arreglo = array.array('i', [1, 2, 3, 4, 5])\n",
        "resultado = suma_arreglo(mi_arreglo)\n",
        "print(\"La suma de los elementos del arreglo es:\", resultado)\n",
        ""
      ]
    }
  ]
}