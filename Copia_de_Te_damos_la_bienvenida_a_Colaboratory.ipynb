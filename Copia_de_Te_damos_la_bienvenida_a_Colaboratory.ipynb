{
  "cells": [
    {
      "cell_type": "code",
      "source": [
        "Código con while\n",
        "from machine import Pin\n",
        "import time\n",
        "#se conecta la salida y entradas del codigo a while comprendiendo la función de dicho codigo conjunto, en el cual su función es encender un led.\n",
        "led_pin = Pin(0, Pin.OUT) # aquí ponemos el contexto para dar la orden de salida en el Pin.\n",
        "button_pin = Pin(15, Pin.IN,Pin.PULL_UP)\n",
        "\n",
        "while True:\n",
        "    button_state = button_pin.value()\n",
        "    if button_state == 0:\n",
        "        led_pin.toggle()\n",
        "        # aquí en el while ponemos caracteristicas en el codigo para encender el led.\n",
        "\n",
        "        Código con IRQ\n",
        "        # se define machine e import los cuales son importantes para correr en el programa Thonny, tambien se define timer para poner el tiempo.\n",
        "from machine import Pin,Timer\n",
        "\n",
        "pin_led = Pin(0, mode=Pin.OUT) # definimos cual Pin tendra salida para encender el LED\n",
        "pin_button = Pin(15, mode=Pin.IN, pull=Pin.PULL_UP) # En este caso es el Pin 15\n",
        "\n",
        "def toggle_led(t:Timer):\n",
        "    pin_led(not pin_led() and pin_button())\n",
        "# Ponemos el Periodo  de 500\n",
        "Timer().init(mode=Timer.PERIODIC, period= 500, callback=toggle_led)\n",
        "\n",
        "Código con PIO\n",
        "import time\n",
        "import rp2\n",
        "from machine import Pin\n",
        "# Al igual que los anteriores codigos  tambien definimos el Timer, machine y el Pin de salida\n",
        "\n",
        "@rp2.asm_pio(set_init=rp2.PIO.OUT_LOW)\n",
        "def blink():\n",
        "    wrap_target()\n",
        "    jmp(pin, \"one\")\n",
        "    set(pins, 1)   [31]\n",
        "    label(\"one\")\n",
        "    nop()          [31]\n",
        "    nop()          [31]\n",
        "    nop()          [31]\n",
        "    nop()          [31]\n",
        "    set(pins, 0)   [31]\n",
        "    nop()          [31]\n",
        "    nop()          [31]\n",
        "    nop()          [31]\n",
        "    nop()          [31]\n",
        "    wrap()\n",
        "\n",
        "sm = rp2.StateMachine(0, blink, freq=2000, set_base=Pin(0),jmp_pin=Pin(15))\n",
        "sm.active(1)"
      ],
      "metadata": {
        "id": "KAlSghMsRdWW"
      },
      "execution_count": null,
      "outputs": []
    },
    {
      "cell_type": "code",
      "source": [
        "from google.colab import drive\n",
        "drive.mount('/content/drive')"
      ],
      "metadata": {
        "colab": {
          "base_uri": "https://localhost:8080/"
        },
        "id": "Un9k9Ku9oe0-",
        "outputId": "30542e1b-983f-47ab-f6c6-12409f106dd4"
      },
      "execution_count": null,
      "outputs": [
        {
          "output_type": "stream",
          "name": "stdout",
          "text": [
            "Mounted at /content/drive\n"
          ]
        }
      ]
    },
    {
      "cell_type": "markdown",
      "source": [
        "Primer Ejercicio de Documentación\n",
        "1. Comentar el codigo\n",
        "2.¿Puede predecir si el Led Parpadea al oprimir el botón?\n",
        "**Respuesta/** Si se percive el LED encenderse cuando se presiona el botón.\n",
        "3.¿Cualcule el valor de la frecuencia en cada caso.\n",
        "**Respuesta/**  La frecuencia de cambio del LED dependerá completamente de cómo interactúa con el botón. Si presiona y suelta rápidamente el botón, el LED cambiará de estado a esa velocidad. Si mantiene presionado el botón, el LED seguirá alternando de estado mientras lo mantiene presionado.\n",
        "**Segundo codigo** En el segundo codigo muestra que el periodo es de 500, por ende hallamos la frecuencia dividiendo 1/500 y eso nos entrega 0,002 Hz\n",
        "\n",
        "**Tercer Codigo** En el Tercer codigo el propio indica que la frecuencia sera de 2000 hz\n",
        "\n",
        "\n",
        "> Bloc con sangría\n",
        "\n"
      ],
      "metadata": {
        "id": "f5jURwTnRgOl"
      }
    },
    {
      "cell_type": "markdown",
      "source": [
        "**Segundo Ejercicio**\n",
        "En este segundo Ejercicio fue Concetar un sensor infrarojo y registrar datos de dicho inrarojo que provenia de un control que habia sido entregado por el docente."
      ],
      "metadata": {
        "id": "hUvA8APYZsTf"
      }
    },
    {
      "cell_type": "code",
      "source": [
        "#Codigo\n",
        "import time\n",
        "import rp2\n",
        "from machine import Pin\n",
        "\n",
        "@rp2.asm_pio(set_init=rp2.PIO.OUT_LOW)\n",
        "def blink():\n",
        "    label('inicio')\n",
        "    mov(x,invert(null))\n",
        "    jmp(pin,'uno')\n",
        "    label('cero')\n",
        "    set(pins, 0)\n",
        "    jmp(x_dec,'cero_bis')\n",
        "    jmp('fin')\n",
        "    label('cero_bis')\n",
        "    jmp(pin,'fin')\n",
        "    jmp('cero')\n",
        "    label('uno')\n",
        "    set(pins, 1)\n",
        "    jmp(x_dec,'uno_bis')\n",
        "    jmp('fin')\n",
        "    label('uno_bis')\n",
        "    nop()\n",
        "    jmp(pin,'uno')\n",
        "    label('fin')\n",
        "    mov(isr,x)\n",
        "    push(noblock)\n",
        "    jmp('inicio')\n",
        "\n",
        "\n",
        "sm = rp2.StateMachine(\n",
        "    0,\n",
        "    blink,\n",
        "    freq=38000*100,\n",
        "    set_base=Pin(0),\n",
        "    jmp_pin= Pin(17, Pin.IN, Pin.PULL_UP)\n",
        ")\n",
        "\n",
        "sm.active(1)\n",
        "while True:\n",
        "    dat=sm.get()\n",
        "    print(2**32-dat,end=', ')"
      ],
      "metadata": {
        "id": "LIMPoS1famnl"
      },
      "execution_count": null,
      "outputs": []
    },
    {
      "cell_type": "markdown",
      "source": [
        "A continuación se presencia los datos obtenidos de precionar un botón del control 10 veces."
      ],
      "metadata": {
        "id": "3CKHRAU2av3j"
      }
    },
    {
      "cell_type": "code",
      "source": [
        "dat=[[ 4437, 681, 483, 649, 486, 652, 483, 651, 484, 650, 485, 652, 484, 653, 483, 654, 481, 652, 1589, 655, 1560, 682, 1587, 656, 1562, 682, 1586, 658, 1559, 684, 1561, 683, 1558, 686, 478, 660, 1558, 686, 1582, 661, 476, 662, 1554, 691, 477, 663, 475, 398, 479, 659, 1584, 660, 478, 659, 479, 658, 1559, 686, 478, 658, 1562, 683, 1556, 687, 1559, 684] ,\n",
        "[4468, 649, 515, 621, 516, 621, 514, 618, 518, 622, 514, 620, 516, 625, 511, 620, 516, 619, 1599, 646, 1620, 649, 1593, 622, 1620, 624, 1618, 627, 1615, 650, 1593, 623, 1619, 650, 487, 619, 1622, 622, 1621, 626, 510, 623, 1619, 626, 511, 638, 497, 626, 510, 626, 1616, 629, 508, 649, 486, 625, 1618, 651, 485, 653, 1590, 625, 1617, 652, 1590, 652] ,\n",
        "[4398, 690, 475, 662, 475, 659, 477, 660, 477, 662, 474, 659, 478, 659, 477, 661, 476, 661, 1582, 660, 1583, 660, 1582, 661, 1582, 661, 1582, 661, 1583, 661, 1582, 662, 1581, 660, 478, 659, 1585, 658, 1585, 659, 479, 659, 1583, 659, 479, 660, 478, 659, 478, 657, 1586, 657, 481, 658, 479, 656, 1587, 658, 479, 656, 1587, 660, 1584, 659, 1586, 658] ,\n",
        "[4471, 619, 546, 585, 551, 590, 546, 589, 547, 590, 546, 591, 545, 565, 572, 590, 545, 590, 1653, 588, 1654, 588, 1654, 589, 1653, 590, 1652, 592, 1652, 588, 1654, 591, 1652, 616, 521, 589, 1653, 566, 1676, 591, 546, 592, 1650, 590, 547, 616, 521, 588, 547, 591, 1651, 590, 547, 591, 545, 614, 1628, 593, 545, 591, 1650, 591, 1651, 593, 1649, 590] ,\n",
        "[4397, 691, 476, 658, 479, 658, 479, 660, 476, 659, 478, 656, 481, 658, 477, 659, 479, 656, 1557, 687, 1557, 686, 1555, 658, 1584, 660, 1585, 658, 1585, 680, 1564, 657, 1588, 653, 484, 654, 1589, 655, 1588, 658, 482, 656, 1588, 652, 486, 680, 458, 680, 458, 652, 1592, 654, 485, 677, 461, 649, 1593, 652, 487, 650, 1592, 652, 1592, 650, 1594, 652] ,\n",
        "[4488, 574, 584, 576, 537, 600, 561, 575, 561, 573, 563, 576, 538, 571, 586, 576, 560, 577, 1666, 549, 1693, 549, 1694, 551, 1666, 601, 1643, 598, 1667, 576, 1666, 577, 1665, 550, 560, 576, 1693, 576, 1665, 578, 559, 549, 1666, 577, 564, 598, 560, 576, 559, 551, 1692, 549, 585, 551, 587, 548, 1694, 574, 561, 576, 1665, 576, 1666, 550, 1670, 625] ,\n",
        "[4511, 549, 564, 573, 586, 578, 561, 547, 588, 548, 559, 578, 563, 575, 587, 575, 564, 575, 1669, 577, 1666, 604, 1640, 550, 1695, 551, 1693, 578, 1668, 579, 1640, 574, 1727, 525, 614, 578, 1642, 604, 1636, 553, 589, 573, 1752, 441, 698, 467, 590, 551, 606, 532, 1691, 552, 619, 523, 562, 547, 1753, 520, 644, 494, 1723, 554, 1665, 549, 1694, 581] ,\n",
        "[4397, 690, 476, 660, 477, 660, 477, 662, 475, 662, 476, 661, 477, 663, 476, 662, 476, 661, 1583, 664, 1581, 659, 1586, 655, 1590, 627, 1618, 627, 1617, 629, 1617, 628, 1617, 628, 512, 626, 1618, 655, 1591, 652, 486, 652, 1593, 627, 512, 626, 512, 627, 512, 626, 1618, 652, 487, 629, 510, 628, 1616, 655, 484, 625, 1620, 651, 1594, 653, 1592, 626] ,\n",
        "[4401, 687, 477, 659, 478, 658, 478, 659, 476, 660, 476, 659, 477, 659, 477, 660, 475, 659, 1584, 660, 1582, 661, 1581, 662, 1580, 660, 1583, 662, 1580, 661, 1582, 661, 1582, 661, 476, 658, 1584, 660, 1583, 661, 476, 658, 1585, 660, 476, 660, 478, 659, 477, 659, 1583, 661, 477, 655, 482, 657, 1585, 658, 479, 655, 1588, 624, 1619, 621, 1621, 592] ,\n",
        "[4404, 689, 476, 657, 478, 660, 476, 658, 478, 658, 477, 658, 478, 658, 477, 660, 475, 660, 1581, 660, 1582, 65]]"
      ],
      "metadata": {
        "id": "F9LBa6Olbz_b"
      },
      "execution_count": null,
      "outputs": []
    },
    {
      "cell_type": "markdown",
      "source": [
        "**En el tercer Ejercicio **\n",
        "el docente puso un codigo un el cual actuaria como PWM un led cambiando en tiempo el brillo y potencia de dicho led, este codgio le hariamos nosotros modificacion en el valor de frecuencia y duty para notar muchas diferencias visibles fisicamente, para ir aprendiendo y avanzando hacia la proxima practica  dicho codigo estara presente a continuación:"
      ],
      "metadata": {
        "id": "5_m1jgDgcx3U"
      }
    },
    {
      "cell_type": "code",
      "source": [
        "from machine import Pin, PWM\n",
        "pwm= PWM (Pin (16))\n",
        "pwm. freq (8)\n",
        "pwm. duty_u16(6500)\n",
        "#luego se cambio valores para notar la diferencia en el titileo del led o frecuencia distinta del mismo\n",
        "from machine import Pin, PWM\n",
        "pwm= PWM (Pin (16))\n",
        "pwm. freq (100000)\n",
        "pwm. duty_u16(3768)"
      ],
      "metadata": {
        "id": "ARTzChPjfWAz"
      },
      "execution_count": null,
      "outputs": []
    },
    {
      "cell_type": "markdown",
      "source": [
        "**En el cuarto Ejercicio**\n",
        " El docente realizo un esquema en el cual actuaria como PWM un led cambiando en tiempo el brillo y potencia de dicho led, dicho codigo estara presente a continuación, asi mismo ue graficado, votando una grafica de onda triangular."
      ],
      "metadata": {
        "id": "L2TOh3EjfOxz"
      }
    },
    {
      "cell_type": "code",
      "source": [
        "from machine import Pin , PWM, Timer, ADC\n",
        "\n",
        "pwm = PWM ( Pin ( 22 ) ) # GP16\n",
        "pwm.freq ( 100000 ) # 100kHz\n",
        "#pwm.duty_u16 ( 10000 ) # duty 50% (65535/2)\n",
        "\n",
        "adc = ADC(Pin(26))     # create ADC object on ADC pin\n",
        "duty=0\n",
        "DUTY_MAX=(2**16)\n",
        "\n",
        "def from_time_to_time (t):\n",
        "    global duty\n",
        "    #print(adc.read_u16(),duty ,end=', ')\n",
        "    print(adc.read_u16())\n",
        "    duty = (duty+4000)%DUTY_MAX\n",
        "    pwm.duty_u16(duty)\n",
        "\n",
        "\n",
        "tim = Timer(period=500, mode=Timer.PERIODIC, callback=from_time_to_time)"
      ],
      "metadata": {
        "id": "IwJxNrkZdDxz"
      },
      "execution_count": null,
      "outputs": []
    },
    {
      "cell_type": "markdown",
      "source": [
        "Con dicho Codigo pusimos en le programa Thonny a graficar la potencia que este llevaba y nos dios resultados triangulados, asi mismo tuvimos datos y valores que estaran presentes ahora: C= 1/0,47ms * 1000 ohmios = 0,47 ms      F= 1/0,47ms= 2,12 KHz\n",
        "2*10 exp16/4000= 65,53* 500 ms=8,192 s"
      ],
      "metadata": {
        "id": "lvTBnwWgdSnw"
      }
    },
    {
      "cell_type": "markdown",
      "source": [
        "**En el siguiente paso de este ejercicio se muestra el siguiente codigo:**"
      ],
      "metadata": {
        "id": "rcm1uF6yg8Xf"
      }
    },
    {
      "cell_type": "code",
      "source": [
        "from machine import Pin , PWM, Timer#, ADC\n",
        "\n",
        "pwm = PWM ( Pin ( 22 ) ) # GP16\n",
        "pwm.freq ( 100000 ) # 100kHz\n",
        "#pwm.duty_u16 ( 10000 ) # duty 50% (65535/2)\n",
        "#adc = ADC(Pin(26))     # create ADC object on ADC pin\n",
        "duty=0\n",
        "DUTY_MAX=(2**16)\n",
        "\n",
        "def from_time_to_time (t):\n",
        "    global duty\n",
        "    duty = (duty+4000)%DUTY_MAX\n",
        "    pwm.duty_u16(duty)\n",
        "\n",
        "\n",
        "tim = Timer(period=10, mode=Timer.PERIODIC,callback=from_time_to_time)\n",
        "########################################\n",
        "\n",
        "\n",
        "\n",
        "###############  ADC  #########################\n",
        "# ADC DMA web server using MicroPython on Pico\n",
        "#\n",
        "# For detailed description, see https://iosoft.blog\n",
        "#\n",
        "# Copyright (c) 2021 Jeremy P Bentham\n",
        "#\n",
        "# Licensed under the Apache License, Version 2.0 (the \"License\");\n",
        "# you may not use this file except in compliance with the License.\n",
        "# You may obtain a copy of the License at\n",
        "#\n",
        "#     http://www.apache.org/licenses/LICENSE-2.0\n",
        "#\n",
        "# Unless required by applicable law or agreed to in writing, software\n",
        "# distributed under the License is distributed on an \"AS IS\" BASIS,\n",
        "# WITHOUT WARRANTIES OR CONDITIONS OF ANY KIND, either express or implied.\n",
        "# See the License for the specific language governing permissions and\n",
        "# limitations under the License.\n",
        "#\n",
        "# v0.14 JPB 10/11/21 Tidied up for release\n",
        "from uctypes import BF_POS, BF_LEN, UINT32, BFUINT32, struct\n",
        "\n",
        "GPIO_BASE       = 0x40014000\n",
        "GPIO_CHAN_WIDTH = 0x08\n",
        "GPIO_PIN_COUNT  = 30\n",
        "PAD_BASE        = 0x4001c000\n",
        "PAD_PIN_WIDTH   = 0x04\n",
        "ADC_BASE        = 0x4004c000\n",
        "DMA_BASE        = 0x50000000\n",
        "DMA_CHAN_WIDTH  = 0x40\n",
        "DMA_CHAN_COUNT  = 12\n",
        "\n",
        "# DMA: RP2040 datasheet 2.5.7\n",
        "DMA_CTRL_TRIG_FIELDS = {\n",
        "    \"AHB_ERROR\":   31<<BF_POS | 1<<BF_LEN | BFUINT32,\n",
        "    \"READ_ERROR\":  30<<BF_POS | 1<<BF_LEN | BFUINT32,\n",
        "    \"WRITE_ERROR\": 29<<BF_POS | 1<<BF_LEN | BFUINT32,\n",
        "    \"BUSY\":        24<<BF_POS | 1<<BF_LEN | BFUINT32,\n",
        "    \"SNIFF_EN\":    23<<BF_POS | 1<<BF_LEN | BFUINT32,\n",
        "    \"BSWAP\":       22<<BF_POS | 1<<BF_LEN | BFUINT32,\n",
        "    \"IRQ_QUIET\":   21<<BF_POS | 1<<BF_LEN | BFUINT32,\n",
        "    \"TREQ_SEL\":    15<<BF_POS | 6<<BF_LEN | BFUINT32,\n",
        "    \"CHAIN_TO\":    11<<BF_POS | 4<<BF_LEN | BFUINT32,\n",
        "    \"RING_SEL\":    10<<BF_POS | 1<<BF_LEN | BFUINT32,\n",
        "    \"RING_SIZE\":    6<<BF_POS | 4<<BF_LEN | BFUINT32,\n",
        "    \"INCR_WRITE\":   5<<BF_POS | 1<<BF_LEN | BFUINT32,\n",
        "    \"INCR_READ\":    4<<BF_POS | 1<<BF_LEN | BFUINT32,\n",
        "    \"DATA_SIZE\":    2<<BF_POS | 2<<BF_LEN | BFUINT32,\n",
        "    \"HIGH_PRIORITY\":1<<BF_POS | 1<<BF_LEN | BFUINT32,\n",
        "    \"EN\":           0<<BF_POS | 1<<BF_LEN | BFUINT32\n",
        "}\n",
        "# Channel-specific DMA registers\n",
        "DMA_CHAN_REGS = {\n",
        "    \"READ_ADDR_REG\":       0x00|UINT32,\n",
        "    \"WRITE_ADDR_REG\":      0x04|UINT32,\n",
        "    \"TRANS_COUNT_REG\":     0x08|UINT32,\n",
        "    \"CTRL_TRIG_REG\":       0x0c|UINT32,\n",
        "    \"CTRL_TRIG\":          (0x0c,DMA_CTRL_TRIG_FIELDS)\n",
        "}\n",
        "\n",
        "# General DMA registers\n",
        "DMA_REGS = {\n",
        "    \"INTR\":               0x400|UINT32,\n",
        "    \"INTE0\":              0x404|UINT32,\n",
        "    \"INTF0\":              0x408|UINT32,\n",
        "    \"INTS0\":              0x40c|UINT32,\n",
        "    \"INTE1\":              0x414|UINT32,\n",
        "    \"INTF1\":              0x418|UINT32,\n",
        "    \"INTS1\":              0x41c|UINT32,\n",
        "    \"TIMER0\":             0x420|UINT32,\n",
        "    \"TIMER1\":             0x424|UINT32,\n",
        "    \"TIMER2\":             0x428|UINT32,\n",
        "    \"TIMER3\":             0x42c|UINT32,\n",
        "    \"MULTI_CHAN_TRIGGER\": 0x430|UINT32,\n",
        "    \"SNIFF_CTRL\":         0x434|UINT32,\n",
        "    \"SNIFF_DATA\":         0x438|UINT32,\n",
        "    \"FIFO_LEVELS\":        0x440|UINT32,\n",
        "    \"CHAN_ABORT\":         0x444|UINT32\n",
        "}\n",
        "# GPIO status and control: RP2040 datasheet 2.19.6.1.10\n",
        "GPIO_STATUS_FIELDS = {\n",
        "    \"IRQTOPROC\":  26<<BF_POS | 1<<BF_LEN | BFUINT32,\n",
        "    \"IRQFROMPAD\": 24<<BF_POS | 1<<BF_LEN | BFUINT32,\n",
        "    \"INTOPERI\":   19<<BF_POS | 1<<BF_LEN | BFUINT32,\n",
        "    \"INFROMPAD\":  17<<BF_POS | 1<<BF_LEN | BFUINT32,\n",
        "    \"OETOPAD\":    13<<BF_POS | 1<<BF_LEN | BFUINT32,\n",
        "    \"OEFROMPERI\": 12<<BF_POS | 1<<BF_LEN | BFUINT32,\n",
        "    \"OUTTOPAD\":    9<<BF_POS | 1<<BF_LEN | BFUINT32,\n",
        "    \"OUTFROMPERI\": 8<<BF_POS | 1<<BF_LEN | BFUINT32\n",
        "}\n",
        "GPIO_CTRL_FIELDS = {\n",
        "    \"IRQOVER\":    28<<BF_POS | 2<<BF_LEN | BFUINT32,\n",
        "    \"INOVER\":     16<<BF_POS | 2<<BF_LEN | BFUINT32,\n",
        "    \"OEOVER\":     12<<BF_POS | 2<<BF_LEN | BFUINT32,\n",
        "    \"OUTOVER\":     8<<BF_POS | 2<<BF_LEN | BFUINT32,\n",
        "    \"FUNCSEL\":     0<<BF_POS | 5<<BF_LEN | BFUINT32\n",
        "}\n",
        "GPIO_REGS = {\n",
        "    \"GPIO_STATUS_REG\":     0x00|UINT32,\n",
        "    \"GPIO_STATUS\":        (0x00,GPIO_STATUS_FIELDS),\n",
        "    \"GPIO_CTRL_REG\":       0x04|UINT32,\n",
        "    \"GPIO_CTRL\":          (0x04,GPIO_CTRL_FIELDS)\n",
        "}\n",
        "\n",
        "# PAD control: RP2040 datasheet 2.19.6.3\n",
        "PAD_FIELDS = {\n",
        "    \"OD\":          7<<BF_POS | 1<<BF_LEN | BFUINT32,\n",
        "    \"IE\":          6<<BF_POS | 1<<BF_LEN | BFUINT32,\n",
        "    \"DRIVE\":       4<<BF_POS | 2<<BF_LEN | BFUINT32,\n",
        "    \"PUE\":         3<<BF_POS | 1<<BF_LEN | BFUINT32,\n",
        "    \"PDE\":         2<<BF_POS | 1<<BF_LEN | BFUINT32,\n",
        "    \"SCHMITT\":     1<<BF_POS | 1<<BF_LEN | BFUINT32,\n",
        "    \"SLEWFAST\":    0<<BF_POS | 1<<BF_LEN | BFUINT32\n",
        "}\n",
        "PAD_REGS = {\n",
        "    \"PAD_REG\":             0x00|UINT32,\n",
        "    \"PAD\":                (0x00,PAD_FIELDS)\n",
        "}\n",
        "\n",
        "\n",
        "# ADC: RP2040 datasheet 4.9.6\n",
        "ADC_CS_FIELDS = {\n",
        "    \"RROBIN\":     16<<BF_POS | 5<<BF_LEN | BFUINT32,\n",
        "    \"AINSEL\":     12<<BF_POS | 3<<BF_LEN | BFUINT32,\n",
        "    \"ERR_STICKY\": 10<<BF_POS | 1<<BF_LEN | BFUINT32,\n",
        "    \"ERR\":         9<<BF_POS | 1<<BF_LEN | BFUINT32,\n",
        "    \"READY\":       8<<BF_POS | 1<<BF_LEN | BFUINT32,\n",
        "    \"START_MANY\":  3<<BF_POS | 1<<BF_LEN | BFUINT32,\n",
        "    \"START_ONCE\":  2<<BF_POS | 1<<BF_LEN | BFUINT32,\n",
        "    \"TS_EN\":       1<<BF_POS | 1<<BF_LEN | BFUINT32,\n",
        "    \"EN\":          0<<BF_POS | 1<<BF_LEN | BFUINT32\n",
        "}\n",
        "ADC_FCS_FIELDS = {\n",
        "    \"THRESH\":     24<<BF_POS | 4<<BF_LEN | BFUINT32,\n",
        "    \"LEVEL\":      16<<BF_POS | 4<<BF_LEN | BFUINT32,\n",
        "    \"OVER\":       11<<BF_POS | 1<<BF_LEN | BFUINT32,\n",
        "    \"UNDER\":      10<<BF_POS | 1<<BF_LEN | BFUINT32,\n",
        "    \"FULL\":        9<<BF_POS | 1<<BF_LEN | BFUINT32,\n",
        "    \"EMPTY\":       8<<BF_POS | 1<<BF_LEN | BFUINT32,\n",
        "    \"DREQ_EN\":     3<<BF_POS | 1<<BF_LEN | BFUINT32,\n",
        "    \"ERR\":         2<<BF_POS | 1<<BF_LEN | BFUINT32,\n",
        "    \"SHIFT\":       1<<BF_POS | 1<<BF_LEN | BFUINT32,\n",
        "    \"EN\":          0<<BF_POS | 1<<BF_LEN | BFUINT32,\n",
        "}\n",
        "ADC_REGS = {\n",
        "    \"CS_REG\":              0x00|UINT32,\n",
        "    \"CS\":                 (0x00,ADC_CS_FIELDS),\n",
        "    \"RESULT_REG\":          0x04|UINT32,\n",
        "    \"FCS_REG\":             0x08|UINT32,\n",
        "    \"FCS\":                (0x08,ADC_FCS_FIELDS),\n",
        "    \"FIFO_REG\":            0x0c|UINT32,\n",
        "    \"DIV_REG\":             0x10|UINT32,\n",
        "    \"INTR_REG\":            0x14|UINT32,\n",
        "    \"INTE_REG\":            0x18|UINT32,\n",
        "    \"INTF_REG\":            0x1c|UINT32,\n",
        "    \"INTS_REG\":            0x20|UINT32\n",
        "}\n",
        "\n",
        "# DREQ_PIO0_TX0, DREQ_PIO0_RX0, DREQ_PIO1_TX0 = 0, 4, 8\n",
        "# DREQ_PIO1_RX0, DREQ_SPI0_TX,  DREQ_SPI0_RX  = 12, 16, 17\n",
        "# DREQ_SPI1_TX,  DREQ_SPI1_RX,  DREQ_UART0_TX = 18, 19, 20\n",
        "# DREQ_UART0_RX, DREQ_UART1_TX, DREQ_UART1_RX = 21, 22, 23\n",
        "# DREQ_I2C0_TX,  DREQ_I2C0_RX,  DREQ_I2C1_TX  = 32, 33, 34\n",
        "DREQ_I2C1_RX,  DREQ_ADC                     = 35, 36\n",
        "\n",
        "\n",
        "DMA_CHANS = [struct(DMA_BASE + n*DMA_CHAN_WIDTH, DMA_CHAN_REGS) for n in range(0,DMA_CHAN_COUNT)]\n",
        "DMA_DEVICE = struct(DMA_BASE, DMA_REGS)\n",
        "GPIO_PINS = [struct(GPIO_BASE + n*GPIO_CHAN_WIDTH, GPIO_REGS) for n in range(0,GPIO_PIN_COUNT)]\n",
        "PAD_PINS =  [struct(PAD_BASE + n*PAD_PIN_WIDTH, PAD_REGS) for n in range(0,GPIO_PIN_COUNT)]\n",
        "ADC_DEVICE = struct(ADC_BASE, ADC_REGS)\n",
        "ADC_FIFO_ADDR = ADC_BASE + 0x0c\n",
        "\n",
        "\n",
        "GPIO_FUNC_SPI, GPIO_FUNC_UART, GPIO_FUNC_I2C = 1, 2, 3\n",
        "GPIO_FUNC_PWM, GPIO_FUNC_SIO, GPIO_FUNC_PIO0 = 4, 5, 6\n",
        "GPIO_FUNC_NULL = 0x1f\n",
        "\n",
        "\n",
        "import array, time, uctypes, math, random\n",
        "#import rp_devices as devs#, rp_esp32 as esp32\n",
        "\n",
        "ADC_CHAN = 0\n",
        "ADC_PIN  = 26 + ADC_CHAN\n",
        "ADC_SAMPLES = 20\n",
        "MIN_SAMPLES, MAX_SAMPLES = 10, 1000\n",
        "ADC_RATE = 100000\n",
        "MIN_RATE, MAX_RATE = 1000, 500000\n",
        "DMA_CHAN = 0\n",
        "\n",
        "# DIRECTORY     = \"/\"\n",
        "# INDEX_HTML    = \"rpscope.html\"\n",
        "# DATA_CSV      = \"data.csv\"\n",
        "# CAPTURE_CSV   = \"capture.csv\"\n",
        "# ICON_ICO      = \"favicon.ico\"\n",
        "\n",
        "\n",
        "\n",
        "adc = ADC_DEVICE\n",
        "dma_chan = DMA_CHANS[DMA_CHAN]\n",
        "dma = DMA_DEVICE\n",
        "\n",
        "parameters = {\"nsamples\":ADC_SAMPLES, \"xrate\":ADC_RATE, \"simulate\":0}\n",
        "\n",
        "\n",
        "# Initialise ADC DMA\n",
        "def adc_dma_init():\n",
        "    pin = GPIO_PINS[ADC_PIN]\n",
        "    pad = PAD_PINS[ADC_PIN]\n",
        "    pin.GPIO_CTRL_REG = GPIO_FUNC_NULL\n",
        "    pad.PAD_REG = 0\n",
        "\n",
        "    dma.CHAN_ABORT = 0xffff\n",
        "    dma_chan.CTRL_TRIG_REG = 0\n",
        "\n",
        "    adc.CS_REG = adc.FCS_REG = 0\n",
        "    adc.CS.EN = 1\n",
        "    adc.FCS.EN = adc.FCS.DREQ_EN = 1\n",
        "    adc.FCS.THRESH = adc.FCS.OVER = adc.FCS.UNDER = 1\n",
        "    adc.CS.AINSEL = ADC_CHAN\n",
        "\n",
        "    dma_chan.READ_ADDR_REG = ADC_FIFO_ADDR\n",
        "    dma_chan.CTRL_TRIG_REG = 0\n",
        "    dma_chan.CTRL_TRIG.CHAIN_TO = DMA_CHAN\n",
        "    dma_chan.CTRL_TRIG.INCR_WRITE = dma_chan.CTRL_TRIG.IRQ_QUIET = 1\n",
        "    dma_chan.CTRL_TRIG.TREQ_SEL = DREQ_ADC\n",
        "    dma_chan.CTRL_TRIG.DATA_SIZE = 1\n",
        "\n",
        "# Discard any data in ADC FIFO\n",
        "def flush_adc_fifo():\n",
        "    dma_chan.CTRL_TRIG.EN = 0\n",
        "    while adc.FCS.LEVEL:\n",
        "        x = adc.FIFO_REG\n",
        "\n",
        "# Capture ADC samples using DMA\n",
        "def adc_capture():\n",
        "    flush_adc_fifo()\n",
        "    nsamp = max(MIN_SAMPLES, min(MAX_SAMPLES, parameters[\"nsamples\"]))\n",
        "    rate = max(MIN_RATE, min(MAX_RATE, parameters[\"xrate\"]))\n",
        "    print('nsamp,rate:',nsamp,rate,end='-')\n",
        "    adc_buff = array.array('H', (0 for _ in range(nsamp)))\n",
        "    adc.DIV_REG = (48000000 // rate - 1) << 8\n",
        "    dma_chan.WRITE_ADDR_REG = uctypes.addressof(adc_buff)\n",
        "    dma_chan.TRANS_COUNT_REG = nsamp\n",
        "    dma_chan.CTRL_TRIG.EN = 1\n",
        "    adc.CS.START_MANY = 1\n",
        "    while dma_chan.CTRL_TRIG.BUSY:\n",
        "        time.sleep_ms(10)\n",
        "    adc.CS.START_MANY = 0\n",
        "    dma_chan.CTRL_TRIG.EN = 0\n",
        "    return '\\n'.join([(\"%1.3f\" % (val*3.3/4096)) for val in adc_buff])\n",
        "\n",
        "adc_dma_init()\n",
        "\n",
        "while True:\n",
        "    print(adc_capture())\n",
        "    time.sleep_ms(10)"
      ],
      "metadata": {
        "id": "ob4ZMqF6gtU2"
      },
      "execution_count": null,
      "outputs": []
    },
    {
      "cell_type": "markdown",
      "source": [
        "El codigo anterior se uso para visualizar el cambio de onda, la onda era triangular y con el codigo anterior quedo ahora una onda donde se cortaba y no se lograba notar un total estudio por parte del programa Thonny que era el que graficaba la onda. Con ello concluimos que la modificación hace que los valores de la onda caiga tan rapido que por lo mismo el programa no termina de graficar cuando ya vuelve a continuar a graficar el siguiente periodo."
      ],
      "metadata": {
        "id": "O-cBohYRhEnH"
      }
    },
    {
      "cell_type": "markdown",
      "source": [
        "**Quices!**\n",
        "Primer Quiz"
      ],
      "metadata": {
        "id": "LjI-wdEShkqN"
      }
    },
    {
      "cell_type": "markdown",
      "source": [
        "[1,2,3,4,5,6]------>[1,5,4,3,2,6]\n",
        "[5,1,8,6,2]-------->[5,6,8,1,2]\n",
        "[1,2,6,4]---------->[1,6,2,4]\n",
        "[1,2,3]------------>[1,2,3]\n",
        "[1,2]-------------->[1,2]"
      ],
      "metadata": {
        "id": "bn9p0t8Ij-7-"
      }
    },
    {
      "cell_type": "code",
      "source": [
        "def F(lilist) r:list:\n",
        "  n=len(i)\n",
        "  m=n/2\n",
        "  r:l[m+1:] + l[m:m+1]+l[:m]\n",
        "  else:\n",
        "    m=n//2\n",
        "    r:l[m:]+l[:m]\n",
        "    return r."
      ],
      "metadata": {
        "id": "ZA0HAR3vizTq"
      },
      "execution_count": null,
      "outputs": []
    },
    {
      "cell_type": "code",
      "source": [
        "def g (l:list)\n",
        "return [l[0]]+l[1:-1]reverse ()+[l[-1]]"
      ],
      "metadata": {
        "id": "Ndh7pQGujem9"
      },
      "execution_count": null,
      "outputs": []
    },
    {
      "cell_type": "markdown",
      "source": [
        "**Quiz #2** Aplicar una función que sume 5 a cada elemento de la lista:\n",
        "\n",
        "> Bloc con sangría\n",
        "\n"
      ],
      "metadata": {
        "id": "Pu-sKcH_k48G"
      }
    },
    {
      "cell_type": "code",
      "source": [
        "def sumar_cinco_a_lista(lista):\n",
        "    # Utiliza una comprensión de lista para sumar 5 a cada elemento\n",
        "    lista_modificada = [elemento +\n",
        "    lista\n",
        "5 for elemento in lista]\n",
        "\n",
        "\n",
        "return lista_modificada\n",
        "\n",
        "# Lista original\n",
        "mi_lista = []\n",
        "mi_lista = [\n",
        "1, -2, -3, 5]\n",
        "\n",
        "# Llama a la función para sumar 5 a cada elemento\n",
        "resultado = sumar_cinco_a_lista(mi_lista)\n",
        "\n",
        "\n",
        "resultado = sumar_cinco_a_lista(mi_lista)\n",
        "\n",
        "resultado = sumar_cinco_a_lista\n",
        "\n",
        "resultado =\n",
        "# Imprime la lista modificada\n",
        "print(resultado)\n",
        "\n"
      ],
      "metadata": {
        "id": "2gbwyHtwk7Gb"
      },
      "execution_count": null,
      "outputs": []
    },
    {
      "cell_type": "markdown",
      "source": [
        "**Quiz #3** Dado un texto ingresado con input separado con comas e imprimirlos como una lista de latex, dicha lista es [a,b,c,d]"
      ],
      "metadata": {
        "id": "z9u_8JsKmkUb"
      }
    },
    {
      "cell_type": "code",
      "source": [
        "texto_entrada =\n",
        "texto_\n",
        "input(\"Ingrese los elementos separados por comas: \")\n",
        "\n",
        "# Dividir el texto en elementos utilizando la coma como separador\n",
        "elementos = texto_entrada.split(',')\n",
        "\n",
        "# Eliminar espacios en blanco alrededor de cada elemento\n",
        "elementos = [elemento.strip()\n",
        "elementos = [elemento.strip\n",
        "\n",
        "elementos = [elemento\n",
        "\n",
        "elementos = [\n",
        "for elemento in elementos]\n",
        "\n",
        "# Imprimir la lista en formato LaTeX\n",
        "print(\"\\\\begin{itemize}\")\n",
        "for elemento in elementos:\n",
        "    print(\"  \\\\item \" + elemento)\n",
        "print(\"\\\\end{itemize}\")\n",
        "\n",
        "             \\begin{itemize}\n",
        "  \\item a\n",
        "  \\item b\n",
        "  \\item c\n",
        "  \\item d\n",
        "\\end{itemize}\n",
        "\n",
        "  \\item a\n",
        "  \\item b\n",
        "  \\item c\n",
        "  \\item d\n",
        "\n",
        "  \\item a\n",
        "  \\item b\n",
        "  \\item c\n",
        "  \\item\n",
        "\n",
        "  \\item a\n",
        "  \\item b\n",
        "\n",
        "  \\item a"
      ],
      "metadata": {
        "id": "dJN7SMFCmrhI"
      },
      "execution_count": null,
      "outputs": []
    }
  ],
  "metadata": {
    "colab": {
      "provenance": [],
      "toc_visible": true
    },
    "kernelspec": {
      "display_name": "Python 3",
      "name": "python3"
    }
  },
  "nbformat": 4,
  "nbformat_minor": 0
}