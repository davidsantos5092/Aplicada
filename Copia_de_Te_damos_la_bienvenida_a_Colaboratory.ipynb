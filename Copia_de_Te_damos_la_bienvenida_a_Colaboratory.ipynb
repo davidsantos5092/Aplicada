{
  "cells": [
    {
      "cell_type": "code",
      "source": [
        "Código con while\n",
        "from machine import Pin\n",
        "import time\n",
        "#se conecta la salida y entradas del codigo a while comprendiendo la función de dicho codigo conjunto, en el cual su función es encender un led.\n",
        "led_pin = Pin(0, Pin.OUT) # aquí ponemos el contexto para dar la orden de salida en el Pin.\n",
        "button_pin = Pin(15, Pin.IN,Pin.PULL_UP)\n",
        "\n",
        "while True:\n",
        "    button_state = button_pin.value()\n",
        "    if button_state == 0:\n",
        "        led_pin.toggle()\n",
        "        # aquí en el while ponemos caracteristicas en el codigo para encender el led.\n",
        "\n",
        "        Código con IRQ\n",
        "        # se define machine e import los cuales son importantes para correr en el programa Thonny, tambien se define timer para poner el tiempo.\n",
        "from machine import Pin,Timer\n",
        "\n",
        "pin_led = Pin(0, mode=Pin.OUT) # definimos cual Pin tendra salida para encender el LED\n",
        "pin_button = Pin(15, mode=Pin.IN, pull=Pin.PULL_UP) # En este caso es el Pin 15\n",
        "\n",
        "def toggle_led(t:Timer):\n",
        "    pin_led(not pin_led() and pin_button())\n",
        "# Ponemos el Periodo  de 500\n",
        "Timer().init(mode=Timer.PERIODIC, period= 500, callback=toggle_led)\n",
        "\n",
        "Código con PIO\n",
        "import time\n",
        "import rp2\n",
        "from machine import Pin\n",
        "# Al igual que los anteriores codigos  tambien definimos el Timer, machine y el Pin de salida\n",
        "\n",
        "@rp2.asm_pio(set_init=rp2.PIO.OUT_LOW)\n",
        "def blink():\n",
        "    wrap_target()\n",
        "    jmp(pin, \"one\")\n",
        "    set(pins, 1)   [31]\n",
        "    label(\"one\")\n",
        "    nop()          [31]\n",
        "    nop()          [31]\n",
        "    nop()          [31]\n",
        "    nop()          [31]\n",
        "    set(pins, 0)   [31]\n",
        "    nop()          [31]\n",
        "    nop()          [31]\n",
        "    nop()          [31]\n",
        "    nop()          [31]\n",
        "    wrap()\n",
        "\n",
        "sm = rp2.StateMachine(0, blink, freq=2000, set_base=Pin(0),jmp_pin=Pin(15))\n",
        "sm.active(1)"
      ],
      "metadata": {
        "id": "KAlSghMsRdWW"
      },
      "execution_count": null,
      "outputs": []
    },
    {
      "cell_type": "code",
      "source": [
        "from google.colab import drive\n",
        "drive.mount('/content/drive')"
      ],
      "metadata": {
        "colab": {
          "base_uri": "https://localhost:8080/"
        },
        "id": "Un9k9Ku9oe0-",
        "outputId": "30542e1b-983f-47ab-f6c6-12409f106dd4"
      },
      "execution_count": null,
      "outputs": [
        {
          "output_type": "stream",
          "name": "stdout",
          "text": [
            "Mounted at /content/drive\n"
          ]
        }
      ]
    },
    {
      "cell_type": "markdown",
      "source": [
        "Primer Ejercicio de Documentación\n",
        "1. Comentar el codigo\n",
        "2.¿Puede predecir si el Led Parpadea al oprimir el botón?\n",
        "**Respuesta/** Si se percive el LED encenderse cuando se presiona el botón.\n",
        "3.¿Cualcule el valor de la frecuencia en cada caso.\n",
        "**Respuesta/**  La frecuencia de cambio del LED dependerá completamente de cómo interactúa con el botón. Si presiona y suelta rápidamente el botón, el LED cambiará de estado a esa velocidad. Si mantiene presionado el botón, el LED seguirá alternando de estado mientras lo mantiene presionado.\n",
        "**Segundo codigo** En el segundo codigo muestra que el periodo es de 500, por ende hallamos la frecuencia dividiendo 1/500 y eso nos entrega 0,002 Hz\n",
        "\n",
        "**Tercer Codigo** En el Tercer codigo el propio indica que la frecuencia sera de 2000 hz\n",
        "\n",
        "\n",
        "> Bloc con sangría\n",
        "\n"
      ],
      "metadata": {
        "id": "f5jURwTnRgOl"
      }
    }
    
