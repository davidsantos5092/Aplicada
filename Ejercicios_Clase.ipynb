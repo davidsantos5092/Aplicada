{
  "nbformat": 4,
  "nbformat_minor": 0,
  "metadata": {
    "colab": {
      "provenance": [],
      "authorship_tag": "ABX9TyPICiVS7VNHmNqPiUo7GzNl",
      "include_colab_link": true
    },
    "kernelspec": {
      "name": "python3",
      "display_name": "Python 3"
    },
    "language_info": {
      "name": "python"
    }
  },
  "cells": [
    {
      "cell_type": "markdown",
      "metadata": {
        "id": "view-in-github",
        "colab_type": "text"
      },
      "source": [
        "<a href=\"https://colab.research.google.com/github/davidsantos5092/Aplicada/blob/main/Ejercicios_Clase.ipynb\" target=\"_parent\"><img src=\"https://colab.research.google.com/assets/colab-badge.svg\" alt=\"Open In Colab\"/></a>"
      ]
    },
    {
      "cell_type": "markdown",
      "source": [
        "**Juan David Santos Poblador---- COD: 20222005092**\n",
        "\n",
        "## **Primer ejercicio**"
      ],
      "metadata": {
        "id": "J6HNTs_wb9-T"
      }
    },
    {
      "cell_type": "code",
      "execution_count": 8,
      "metadata": {
        "colab": {
          "base_uri": "https://localhost:8080/"
        },
        "id": "WttAUtNdb2Vn",
        "outputId": "213d241b-d846-4237-a70b-22942894b424"
      },
      "outputs": [
        {
          "output_type": "stream",
          "name": "stdout",
          "text": [
            "How many numbers do you want to input? 6\n",
            "Type a number: 0\n",
            "Type a number: 1\n",
            "Type a number: 6\n",
            "Type a number: 7\n",
            "Type a number: 8\n",
            "Type a number: 9\n",
            "[9, 8, 7, 6, 1]\n"
          ]
        }
      ],
      "source": [
        "4\n",
        "def h(list):\n",
        "    pattern_list = []\n",
        "    for x in reversed(list):\n",
        "        if x != 0:\n",
        "            pattern_list.append(x)\n",
        "    return pattern_list\n",
        "\n",
        "num_of_inputs = int(input(\"How many numbers do you want to input? \"))\n",
        "input_list = []\n",
        "\n",
        "for i in range(num_of_inputs):\n",
        "    number = int(input(\"Type a number: \"))\n",
        "    input_list.append(number) #Con esta se agregan los numero a la lista\n",
        "\n",
        "result = h(input_list)\n",
        "print(result)"
      ]
    },
    {
      "cell_type": "markdown",
      "source": [
        "## **Segundo Ejercicio**\n",
        "\n",
        "\n",
        "\n"
      ],
      "metadata": {
        "id": "IIUVcI3jcNwC"
      }
    },
    {
      "cell_type": "code",
      "source": [
        "def g(list):\n",
        "    New_list = [list[0]] + list[-2:0:-1] + [list[-1]]\n",
        "    return New_list\n",
        "\n",
        "num_of_inputs = int(input(\"How many numbers do you want to input? \"))\n",
        "input_list = []\n",
        "\n",
        "for i in range(num_of_inputs):\n",
        "    number = int(input(\"Type a number: \"))\n",
        "    input_list.append(number) #Con esta se agregan los numero a la lista\n",
        "\n",
        "result = g(input_list)\n",
        "print(result)"
      ],
      "metadata": {
        "colab": {
          "base_uri": "https://localhost:8080/"
        },
        "id": "XUeMNPw1ceI1",
        "outputId": "5eac2ff3-73a2-419f-fe67-c9778675fe5a"
      },
      "execution_count": 10,
      "outputs": [
        {
          "output_type": "stream",
          "name": "stdout",
          "text": [
            "How many numbers do you want to input? 4\n",
            "Type a number: 2\n",
            "Type a number: 4\n",
            "Type a number: 6\n",
            "Type a number: 8\n",
            "[2, 6, 4, 8]\n"
          ]
        }
      ]
    },
    {
      "cell_type": "markdown",
      "source": [
        "**Tercer Ejercicio**"
      ],
      "metadata": {
        "id": "w2Og3VplcjaO"
      }
    },
    {
      "cell_type": "code",
      "source": [
        "import random\n",
        "\n",
        "secretW = random.randint(1, 10)\n",
        "\n",
        "while True:\n",
        "    secretL = random.randint(1, 10)\n",
        "    if secretW!=secretL:\n",
        "        break\n",
        "\n",
        "while True:\n",
        "    number = int(input(\"Type a number (1 to 10): \"))\n",
        "\n",
        "    if number < 1 or number > 10:\n",
        "        print(\"Please enter a number between 1 to 10. \")\n",
        "    elif secretW == number:\n",
        "        print(\"You win\")\n",
        "        break\n",
        "    elif secretL == number:\n",
        "        print(\"You lose, you selected the cursed number. \")\n",
        "        break\n",
        "    else:\n",
        "        print(\"Nothing. Select other number. \")"
      ],
      "metadata": {
        "colab": {
          "base_uri": "https://localhost:8080/"
        },
        "id": "YnKq-fHlcmEH",
        "outputId": "1d3557e8-6c03-458a-b4b7-4cb64b2e5909"
      },
      "execution_count": 11,
      "outputs": [
        {
          "output_type": "stream",
          "name": "stdout",
          "text": [
            "Type a number (1 to 10): 3\n",
            "Nothing. Select other number. \n",
            "Type a number (1 to 10): 4\n",
            "You win\n"
          ]
        }
      ]
    }
  ]
}