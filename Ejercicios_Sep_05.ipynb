{
  "nbformat": 4,
  "nbformat_minor": 0,
  "metadata": {
    "colab": {
      "provenance": [],
      "authorship_tag": "ABX9TyMZGBMSrc9SNj2uWz+j7aKC",
      "include_colab_link": true
    },
    "kernelspec": {
      "name": "python3",
      "display_name": "Python 3"
    },
    "language_info": {
      "name": "python"
    }
  },
  "cells": [
    {
      "cell_type": "markdown",
      "metadata": {
        "id": "view-in-github",
        "colab_type": "text"
      },
      "source": [
        "<a href=\"https://colab.research.google.com/github/davidsantos5092/Aplicada/blob/main/Ejercicios_Sep_05.ipynb\" target=\"_parent\"><img src=\"https://colab.research.google.com/assets/colab-badge.svg\" alt=\"Open In Colab\"/></a>"
      ]
    },
    {
      "cell_type": "markdown",
      "source": [
        "05 / 09 / 2023\n",
        "\n",
        "## **Juan David Santos Poblador ------- Cod: 20222005092**\n",
        "\n",
        "**Trabajos propuestos en clase, y codigos a trabajar.**\n",
        "\n",
        "\n",
        "\n",
        "1.   "
      ],
      "metadata": {
        "id": "2AnCabPLVIau"
      }
    },
    {
      "cell_type": "code",
      "execution_count": 1,
      "metadata": {
        "colab": {
          "base_uri": "https://localhost:8080/"
        },
        "id": "NqeZ4ChsVBB7",
        "outputId": "b709beda-aef6-48b9-a757-3696fd9acdef"
      },
      "outputs": [
        {
          "output_type": "stream",
          "name": "stdout",
          "text": [
            "[6, 7, 8, 10]\n"
          ]
        }
      ],
      "source": [
        "l = [1, 2, 3, 5]\n",
        "\n",
        "def sumar(x):\n",
        "    return x + 5\n",
        "\n",
        "resultados = map(sumar, l)\n",
        "imprimir = []\n",
        "for i in resultados:\n",
        "    imprimir.append(i)\n",
        "\n",
        "print(imprimir)"
      ]
    },
    {
      "cell_type": "markdown",
      "source": [
        "\n",
        "\n",
        "\n",
        "2.   \n",
        "\n"
      ],
      "metadata": {
        "id": "iqOPM5g-V2pZ"
      }
    },
    {
      "cell_type": "code",
      "source": [
        "l = [1, 2, 3, 5]\n",
        "\n",
        "Pares = list(filter(lambda i: i%2==0, l))\n",
        "print(Pares)"
      ],
      "metadata": {
        "colab": {
          "base_uri": "https://localhost:8080/"
        },
        "id": "xrAd0nkRVyOU",
        "outputId": "3f7b839a-5e07-4ee1-a8c2-e9d2df9bbad2"
      },
      "execution_count": 2,
      "outputs": [
        {
          "output_type": "stream",
          "name": "stdout",
          "text": [
            "[2]\n"
          ]
        }
      ]
    },
    {
      "cell_type": "markdown",
      "source": [
        "\n",
        "\n",
        "\n",
        "3.  \n",
        "\n"
      ],
      "metadata": {
        "id": "gv2Au1tcWCO2"
      }
    },
    {
      "cell_type": "code",
      "source": [
        "l = [1, 5, 3, 2, 6]\n",
        "\n",
        "Comprobar_Pares = list(filter(lambda i: i % 2 == 0, l)) #Se comprueban los pares\n",
        "\n",
        "imprimir = list(map(lambda i: i // 2, Comprobar_Pares)) #Se imprimen en una lista los pares comprobados y divididos entre 2\n",
        "\n",
        "print(imprimir)"
      ],
      "metadata": {
        "colab": {
          "base_uri": "https://localhost:8080/"
        },
        "id": "Vgxdy-C2WADg",
        "outputId": "84f05070-8d3a-483f-e786-150f9cd91ee3"
      },
      "execution_count": 3,
      "outputs": [
        {
          "output_type": "stream",
          "name": "stdout",
          "text": [
            "[1, 3]\n"
          ]
        }
      ]
    }
  ]
}