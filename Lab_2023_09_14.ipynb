{
  "nbformat": 4,
  "nbformat_minor": 0,
  "metadata": {
    "colab": {
      "provenance": [],
      "authorship_tag": "ABX9TyMRx4CEyMNWTRsnCB4SQwtF",
      "include_colab_link": true
    },
    "kernelspec": {
      "name": "python3",
      "display_name": "Python 3"
    },
    "language_info": {
      "name": "python"
    }
  },
  "cells": [
    {
      "cell_type": "markdown",
      "metadata": {
        "id": "view-in-github",
        "colab_type": "text"
      },
      "source": [
        "<a href=\"https://colab.research.google.com/github/davidsantos5092/Aplicada/blob/main/Lab_2023_09_14.ipynb\" target=\"_parent\"><img src=\"https://colab.research.google.com/assets/colab-badge.svg\" alt=\"Open In Colab\"/></a>"
      ]
    },
    {
      "cell_type": "markdown",
      "source": [
        "**Juan David Santos Poblador** ----- **Cod:** 20222005092\n"
      ],
      "metadata": {
        "id": "Anq-UYPzLxTW"
      }
    },
    {
      "cell_type": "markdown",
      "source": [
        "### **Inicio De La Practica**"
      ],
      "metadata": {
        "id": "Id_R_-ZXRd4H"
      }
    },
    {
      "cell_type": "markdown",
      "source": [
        "Se muestran los calculos realizados en un circuito RC con un diodo y un LED, buscando dar energía a un  circuito con una señal de suministrada por la **RaspBerry Pi Pico** y programada para  utilizar principalmente las funciones que ofrece este micro controlador **PWM y ADC**. Esto es el cálculo de frecuencia que se realizará sobre la señal triangular.\n",
        "\n",
        "Para tal fin, se tomaron dos códigos propuestos en el aula, que permitian controlar un PWM y un ADC de la RaspBerry para configurar el brillo de un LED de forma \"creciente\" y obteniendo de esto la señal triangular ya mencionada.\n",
        "\n",
        "\n",
        "\n",
        "\n",
        " 1. **Determinar la frecuencia de la señal triangular**\n",
        "\n",
        " Para hallar la frecuencia de la señal triangular, buscanis conocer el tiempo que demorara en terminar un ciclo, equivalente al perído de la onda. realizamos el siguiente calculo:\n",
        "\n",
        "  **(65000//4000)500=T**\n",
        "\n",
        "   **T= 8125ms**\n",
        "\n",
        " Pasamos el período a segundos y asi obtenendremos\n",
        "\n",
        "  **T= 8.12 segundos**\n",
        "\n",
        "  Calcular la frecuencia usando la siguiente fórmula:\n",
        "\n",
        "   **Frecuencia (Hz) = 1//Período(segundos)**\n",
        "\n",
        "  Reemplazamos los valores  en la fórmula, tendremos que:\n",
        "\n",
        "**F= 1//8.12 = 0.123 Hz**\n"
      ],
      "metadata": {
        "id": "r-fcoOI3MLAG"
      }
    },
    {
      "cell_type": "markdown",
      "source": [
        "\n",
        "\n",
        "\n",
        "2. **Calcule el Tau (T) de su filtro RC y comparelo con la frecuencia del PWM**\n",
        "\n",
        " Para calcular la constante de tiempo (tau), en el siguiente circuito RC haremos uso a la siguiente ecuación:\n",
        "\n",
        "  **T=RC**\n",
        "\n",
        "  Asi tendremos que:\n",
        "\n",
        "  **T: la cnte medida seg**\n",
        "\n",
        "  **R: la resistencia  medida ohmios**\n",
        "\n",
        "  **C: la capacitancia  medida faradios**\n",
        "\n",
        "  Datos:\n",
        "\n",
        "  **R = 1k Ohmios**\n",
        "\n",
        "  **C = 0.1uF**\n",
        "\n",
        "  Reemplazar datos obtenidos en la fórmula, tenemos:\n",
        "  \n",
        "  **T = 1kx0.1**\n",
        "\n",
        "  **T = 0.0001 segundos**\n",
        "\n",
        "  **T = 100 us**\n"
      ],
      "metadata": {
        "id": "lETKZ9gnNS0C"
      }
    },
    {
      "cell_type": "markdown",
      "source": [
        "## **Tau y Frecuencia del PWM**\n",
        "\n",
        "Comparar **tau** con la frecuencia se evidencia que  es mucho mayor, por lo ello, pensaremos que el circuito responde\n",
        "a los cambios en la señal. El circuito posee buena capacidad de rastreo de la señal de entrada, se considera  la señal que varía\n",
        "lentamente al compararla con la velocidad de respuesta del esquema.\n"
      ],
      "metadata": {
        "id": "qRKYz8vWO7kq"
      }
    }
  ]
}