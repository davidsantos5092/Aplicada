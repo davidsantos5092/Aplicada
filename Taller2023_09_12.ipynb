{
  "nbformat": 4,
  "nbformat_minor": 0,
  "metadata": {
    "colab": {
      "provenance": [],
      "authorship_tag": "ABX9TyOe0BXmkrSWn26s7SBfadn1",
      "include_colab_link": true
    },
    "kernelspec": {
      "name": "python3",
      "display_name": "Python 3"
    },
    "language_info": {
      "name": "python"
    }
  },
  "cells": [
    {
      "cell_type": "markdown",
      "metadata": {
        "id": "view-in-github",
        "colab_type": "text"
      },
      "source": [
        "<a href=\"https://colab.research.google.com/github/davidsantos5092/Aplicada/blob/main/Taller2023_09_12.ipynb\" target=\"_parent\"><img src=\"https://colab.research.google.com/assets/colab-badge.svg\" alt=\"Open In Colab\"/></a>"
      ]
    },
    {
      "cell_type": "markdown",
      "source": [
        "**A continuación la corrección del Codigo hecho en clase sobre ordenar las caritas por items de un texto.**"
      ],
      "metadata": {
        "id": "Z_FLPxDfS1uY"
      }
    },
    {
      "cell_type": "code",
      "source": [
        "def text2latex(txt: str) -> str:\n",
        "\n",
        "    item = '  \\item ' + '\\n  \\item '.join(txt.split()) + '\\n'\n",
        "\n",
        "    organize = '\\begin{itemize}\\n' + item + '\\end{itemize}'\n",
        "\n",
        "    return organize\n",
        "\n",
        "# Texto para ingresar\n",
        "texto = ':) :/ :c ): (: /: ' # ejemplo con caritas feliz, seria, triste, decabeza feliz, seria y triste\n",
        "latex_code = text2latex(texto)\n",
        "print(latex_code)"
      ],
      "metadata": {
        "colab": {
          "base_uri": "https://localhost:8080/"
        },
        "id": "S-eL8q8SSK0C",
        "outputId": "5c670959-e1f6-4e39-b64d-99fd9dc0edd9"
      },
      "execution_count": 2,
      "outputs": [
        {
          "output_type": "stream",
          "name": "stdout",
          "text": [
            "\begin{itemize}\n",
            "  \\item :)\n",
            "  \\item :/\n",
            "  \\item :c\n",
            "  \\item ):\n",
            "  \\item (:\n",
            "  \\item /:\n",
            "\\end{itemize}\n"
          ]
        }
      ]
    }
  ]
}