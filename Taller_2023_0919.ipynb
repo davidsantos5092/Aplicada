{
  "nbformat": 4,
  "nbformat_minor": 0,
  "metadata": {
    "colab": {
      "provenance": [],
      "authorship_tag": "ABX9TyNKJNZ854kI/iCvdXpp3lLw",
      "include_colab_link": true
    },
    "kernelspec": {
      "name": "python3",
      "display_name": "Python 3"
    },
    "language_info": {
      "name": "python"
    }
  },
  "cells": [
    {
      "cell_type": "markdown",
      "metadata": {
        "id": "view-in-github",
        "colab_type": "text"
      },
      "source": [
        "<a href=\"https://colab.research.google.com/github/davidsantos5092/Aplicada/blob/main/Taller_2023_0919.ipynb\" target=\"_parent\"><img src=\"https://colab.research.google.com/assets/colab-badge.svg\" alt=\"Open In Colab\"/></a>"
      ]
    },
    {
      "cell_type": "markdown",
      "source": [
        "\n",
        "**Corrección a Matriz hecha en clase**"
      ],
      "metadata": {
        "id": "OGGmt-ATTl54"
      }
    },
    {
      "cell_type": "code",
      "execution_count": 1,
      "metadata": {
        "colab": {
          "base_uri": "https://localhost:8080/"
        },
        "id": "kJuH2hp1Tgh7",
        "outputId": "6d35ae74-ec7b-4e78-9b07-0fc438b6a2a2"
      },
      "outputs": [
        {
          "output_type": "stream",
          "name": "stdout",
          "text": [
            "ENTRADA: \n",
            "\n",
            "⎡0  3   -6 ⎤\n",
            "⎢          ⎥\n",
            "⎢3  3   -10⎥\n",
            "⎢          ⎥\n",
            "⎢4  -9  34 ⎥\n",
            "⎢          ⎥\n",
            "⎣2  -5  20 ⎦\n",
            "\n",
            "MATRIZ REDUCIDA: \n",
            "\n",
            "⎡1  0  0⎤\n",
            "⎢       ⎥\n",
            "⎢0  1  0⎥\n",
            "⎢       ⎥\n",
            "⎢0  0  1⎥\n",
            "⎢       ⎥\n",
            "⎣0  0  0⎦\n"
          ]
        }
      ],
      "source": [
        "import sympy as sp\n",
        "\n",
        "#Matriz\n",
        "\n",
        "A = sp.Matrix([\n",
        "    [0, 3, -6],\n",
        "    [3, 3, -10],\n",
        "    [4, -9, 34],\n",
        "    [2, -5, 20]\n",
        "])\n",
        "\n",
        "M = A[:,:]      #Matriz \"M\" igual a \"A\"\n",
        "\n",
        "print(\"ENTRADA: \\n\")\n",
        "sp.pprint(M)    #Esta función sirve para mostrar la matriz\n",
        "\n",
        "Nfilas = M.shape[0]  # Número de filas\n",
        "Ncolumnas = M.shape[1]  # Número de columnas\n",
        "\n",
        "for col in range(Ncolumnas):\n",
        "    #Pivote de la columna identificando valores distintos de cero\n",
        "    pivot_fil = None\n",
        "    for fil in range(col, Nfilas):\n",
        "        if M[fil, col] != 0:\n",
        "            pivot_fil = fil\n",
        "            break\n",
        "\n",
        "    if pivot_fil is None:\n",
        "        continue  # Si no se encontró un pivote en esta columna, pasa a la siguiente columna\n",
        "\n",
        "    M.row_swap(col, pivot_fil)      #swap sirve para  intercambiar las filas indicadas para cambiar el pivote a la fila correcta\n",
        "\n",
        "\n",
        "    M[col, :] = M[col, :] / M[col, col] #Volvemos al pivote 1, utilizando  los códigos anteriores\n",
        "\n",
        "\n",
        "    for fil in range(Nfilas):           #0 todo lo demás\n",
        "        if fil != col:\n",
        "            factor = M[fil, col]\n",
        "            M[fil, :] = M[fil, :] - factor * M[col, :]\n",
        "\n",
        "print(\"\\nMATRIZ REDUCIDA: \\n\")\n",
        "sp.pprint(M)"
      ]
    }
  ]
}