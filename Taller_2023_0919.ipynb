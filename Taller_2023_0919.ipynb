{
  "nbformat": 4,
  "nbformat_minor": 0,
  "metadata": {
    "colab": {
      "provenance": [],
      "authorship_tag": "ABX9TyMek9PwAVUyU1wr8tOBEJEU",
      "include_colab_link": true
    },
    "kernelspec": {
      "name": "python3",
      "display_name": "Python 3"
    },
    "language_info": {
      "name": "python"
    }
  },
  "cells": [
    {
      "cell_type": "markdown",
      "metadata": {
        "id": "view-in-github",
        "colab_type": "text"
      },
      "source": [
        "<a href=\"https://colab.research.google.com/github/davidsantos5092/Aplicada/blob/main/Taller_2023_0919.ipynb\" target=\"_parent\"><img src=\"https://colab.research.google.com/assets/colab-badge.svg\" alt=\"Open In Colab\"/></a>"
      ]
    },
    {
      "cell_type": "code",
      "execution_count": 1,
      "metadata": {
        "colab": {
          "base_uri": "https://localhost:8080/",
          "height": 99
        },
        "id": "Y3anlFkVIl3Y",
        "outputId": "42661704-5e52-402d-d9cf-9e10d6c0244c"
      },
      "outputs": [
        {
          "output_type": "execute_result",
          "data": {
            "text/plain": [
              "Matrix([\n",
              "[0,  3,  -6],\n",
              "[3,  3, -10],\n",
              "[4, -9,  34],\n",
              "[2, -5,  20]])"
            ],
            "text/latex": "$\\displaystyle \\left[\\begin{matrix}0 & 3 & -6\\\\3 & 3 & -10\\\\4 & -9 & 34\\\\2 & -5 & 20\\end{matrix}\\right]$"
          },
          "metadata": {},
          "execution_count": 1
        }
      ],
      "source": [
        "import sympy as sp\n",
        "A = sp.Matrix([\n",
        "    [0, 3, -6, ],\n",
        "    [3, 3, -10],\n",
        "    [4, -9, 34],\n",
        "    [2, -5, 20],\n",
        "\n",
        "])\n",
        "\n",
        "A"
      ]
    },
    {
      "cell_type": "code",
      "source": [
        "M = A[:,:]\n",
        "\n",
        "def elim(M):\n",
        "\n",
        "    PXP=M[0,0]                               #1X1\n",
        "    if PXP==0:\n",
        "        pass\n",
        "\n",
        "    SXP=M[1,0]                               #convirtiendo en 0 segundo renglon\n",
        "    M[1,:] = M[1, :]*PXP - M[0, :]*SXP\n",
        "\n",
        "    TXP=M[2,0]                               #convirtiendo en 0 tercer renglon\n",
        "    M[2,:] = M[2, :]*PXP - M[0, :]*TXP\n",
        "\n",
        "    CXP=M[3,0]                               #convirtiendo en 0 cuarto renglon\n",
        "    M[3,:] = M[3, :]*PXP - M[0, :]*CXP\n",
        "\n",
        "\n",
        "    PXS=M[0,1]                               #2X1  convertir en 1 es\n",
        "    if PXS==0:\n",
        "        pass\n",
        "\n",
        "    SXS=M[0,1]                               #0 en el  primer renglon\n",
        "    M[1,:] = M[1, :]*PXS - M[0, :]*SXS\n",
        "\n",
        "    TXS=M[2,1]                               #0 en el tercer renglon\n",
        "    M[2,:] = M[2, :]*PXS - M[0, :]*TXS\n",
        "\n",
        "    CXS=M[3,1]                               # 0 en el cuarto renglon\n",
        "    M[3,:] = M[3, :]*PXS - M[0, :]*CXS\n",
        "\n",
        "    return M\n",
        "\n",
        "elim(M)\n"
      ],
      "metadata": {
        "colab": {
          "base_uri": "https://localhost:8080/",
          "height": 99
        },
        "id": "mz5ypLu_I-dq",
        "outputId": "adb49fd7-6282-49f0-9eb7-0664e92d77ad"
      },
      "execution_count": 2,
      "outputs": [
        {
          "output_type": "execute_result",
          "data": {
            "text/plain": [
              "Matrix([\n",
              "[0,   3, -6],\n",
              "[0, -36, 72],\n",
              "[0,   0,  0],\n",
              "[0,   0,  0]])"
            ],
            "text/latex": "$\\displaystyle \\left[\\begin{matrix}0 & 3 & -6\\\\0 & -36 & 72\\\\0 & 0 & 0\\\\0 & 0 & 0\\end{matrix}\\right]$"
          },
          "metadata": {},
          "execution_count": 2
        }
      ]
    },
    {
      "cell_type": "code",
      "source": [
        "M[0, :] = 1/2 *M[0,:]\n",
        "M"
      ],
      "metadata": {
        "colab": {
          "base_uri": "https://localhost:8080/",
          "height": 99
        },
        "id": "2ZbY_yCbJWuP",
        "outputId": "88cbb5e4-8a35-4111-d67e-221f71bdd8a3"
      },
      "execution_count": 3,
      "outputs": [
        {
          "output_type": "execute_result",
          "data": {
            "text/plain": [
              "Matrix([\n",
              "[0, 1.5, -3.0],\n",
              "[0, -36,   72],\n",
              "[0,   0,    0],\n",
              "[0,   0,    0]])"
            ],
            "text/latex": "$\\displaystyle \\left[\\begin{matrix}0 & 1.5 & -3.0\\\\0 & -36 & 72\\\\0 & 0 & 0\\\\0 & 0 & 0\\end{matrix}\\right]$"
          },
          "metadata": {},
          "execution_count": 3
        }
      ]
    },
    {
      "cell_type": "code",
      "source": [
        "M[1, :] = M[1, :] - M[0, :]*3\n",
        "M"
      ],
      "metadata": {
        "colab": {
          "base_uri": "https://localhost:8080/",
          "height": 99
        },
        "id": "CZAkJ0aAJZzZ",
        "outputId": "55a9bf45-64c6-4913-8ea4-0837024614f2"
      },
      "execution_count": 4,
      "outputs": [
        {
          "output_type": "execute_result",
          "data": {
            "text/plain": [
              "Matrix([\n",
              "[0,   1.5, -3.0],\n",
              "[0, -40.5, 81.0],\n",
              "[0,     0,    0],\n",
              "[0,     0,    0]])"
            ],
            "text/latex": "$\\displaystyle \\left[\\begin{matrix}0 & 1.5 & -3.0\\\\0 & -40.5 & 81.0\\\\0 & 0 & 0\\\\0 & 0 & 0\\end{matrix}\\right]$"
          },
          "metadata": {},
          "execution_count": 4
        }
      ]
    },
    {
      "cell_type": "markdown",
      "source": [
        "**Corrección Codigo Hecho en la clase**"
      ],
      "metadata": {
        "id": "1tbqxmDAJnDy"
      }
    },
    {
      "cell_type": "code",
      "source": [
        "\n",
        "import sympy as sp\n",
        "\n",
        "#Matriz propuesta\n",
        "\n",
        "A = sp.Matrix([\n",
        "    [0, 3, -6],\n",
        "    [3, 3, -10],\n",
        "    [4, -9, 34],\n",
        "    [2, -5, 20]\n",
        "])\n",
        "\n",
        "M = A[:,:]\n",
        "\n",
        "print(\"ENTRADA: \\n\")\n",
        "sp.pprint(M)    #Esta función es para mostrar la matriz\n",
        "\n",
        "Nfilas = M.shape[0]  #  la función shape es la respuesta para el numero de filas\n",
        "Ncolumnas = M.shape[1]  #Entrega el Número de columnas\n",
        "\n",
        "for col in range(Ncolumnas):\n",
        "    #  pivote de la columna identificando valores diferentes de 0\n",
        "    pivot_fil = None\n",
        "    for fil in range(col, Nfilas):\n",
        "        if M[fil, col] != 0:\n",
        "            pivot_fil = fil\n",
        "            break\n",
        "\n",
        "    if pivot_fil is None:\n",
        "        continue  #Cuando no se encontra un pivote en la columna, pasa al que sigue\n",
        "\n",
        "    M.row_swap(col, pivot_fil)      #Función swap se cambia las filas  para cambiar el pivote a la fila correcta\n",
        "\n",
        "\n",
        "    M[col, :] = M[col, :] / M[col, col] #Pasamos el pivote 1\n",
        "\n",
        "    for fil in range(Nfilas):           #Volviendo 0 todas las que faltan\n",
        "        if fil != col:\n",
        "            factor = M[fil, col]\n",
        "            M[fil, :] = M[fil, :] - factor * M[col, :]\n",
        "\n",
        "print(\"\\nMATRIZ REDUCIDA: \\n\")\n",
        "sp.pprint(M)"
      ],
      "metadata": {
        "colab": {
          "base_uri": "https://localhost:8080/"
        },
        "id": "pDKKRrxgJrCY",
        "outputId": "1cf11d0c-4aee-41a0-cc69-e1374cea1ffa"
      },
      "execution_count": 6,
      "outputs": [
        {
          "output_type": "stream",
          "name": "stdout",
          "text": [
            "ENTRADA: \n",
            "\n",
            "⎡0  3   -6 ⎤\n",
            "⎢          ⎥\n",
            "⎢3  3   -10⎥\n",
            "⎢          ⎥\n",
            "⎢4  -9  34 ⎥\n",
            "⎢          ⎥\n",
            "⎣2  -5  20 ⎦\n",
            "\n",
            "MATRIZ REDUCIDA: \n",
            "\n",
            "⎡1  0  0⎤\n",
            "⎢       ⎥\n",
            "⎢0  1  0⎥\n",
            "⎢       ⎥\n",
            "⎢0  0  1⎥\n",
            "⎢       ⎥\n",
            "⎣0  0  0⎦\n"
          ]
        }
      ]
    }
  ]
}